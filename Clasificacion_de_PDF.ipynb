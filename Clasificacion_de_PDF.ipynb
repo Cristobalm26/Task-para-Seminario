{
  "nbformat": 4,
  "nbformat_minor": 0,
  "metadata": {
    "colab": {
      "provenance": [],
      "authorship_tag": "ABX9TyNtLZ6chRbJ5XbMeW8Cr8TU",
      "include_colab_link": true
    },
    "kernelspec": {
      "name": "python3",
      "display_name": "Python 3"
    },
    "language_info": {
      "name": "python"
    }
  },
  "cells": [
    {
      "cell_type": "markdown",
      "metadata": {
        "id": "view-in-github",
        "colab_type": "text"
      },
      "source": [
        "<a href=\"https://colab.research.google.com/github/Cristobalm26/Task-para-Seminario/blob/main/Clasificacion_de_PDF.ipynb\" target=\"_parent\"><img src=\"https://colab.research.google.com/assets/colab-badge.svg\" alt=\"Open In Colab\"/></a>"
      ]
    },
    {
      "cell_type": "code",
      "source": [
        "# Primero, instalamos PyMuPDF\n",
        "!pip install pymupdf"
      ],
      "metadata": {
        "colab": {
          "base_uri": "https://localhost:8080/"
        },
        "id": "0g5WSIdneYqE",
        "outputId": "75a2d3d2-b163-4dff-99a1-a3dd2598dfe1",
        "collapsed": true
      },
      "execution_count": 1,
      "outputs": [
        {
          "output_type": "stream",
          "name": "stdout",
          "text": [
            "Collecting pymupdf\n",
            "  Downloading PyMuPDF-1.24.9-cp310-none-manylinux2014_x86_64.whl.metadata (3.4 kB)\n",
            "Collecting PyMuPDFb==1.24.9 (from pymupdf)\n",
            "  Downloading PyMuPDFb-1.24.9-py3-none-manylinux2014_x86_64.manylinux_2_17_x86_64.whl.metadata (1.4 kB)\n",
            "Downloading PyMuPDF-1.24.9-cp310-none-manylinux2014_x86_64.whl (3.5 MB)\n",
            "\u001b[2K   \u001b[90m━━━━━━━━━━━━━━━━━━━━━━━━━━━━━━━━━━━━━━━━\u001b[0m \u001b[32m3.5/3.5 MB\u001b[0m \u001b[31m27.9 MB/s\u001b[0m eta \u001b[36m0:00:00\u001b[0m\n",
            "\u001b[?25hDownloading PyMuPDFb-1.24.9-py3-none-manylinux2014_x86_64.manylinux_2_17_x86_64.whl (15.9 MB)\n",
            "\u001b[2K   \u001b[90m━━━━━━━━━━━━━━━━━━━━━━━━━━━━━━━━━━━━━━━━\u001b[0m \u001b[32m15.9/15.9 MB\u001b[0m \u001b[31m28.9 MB/s\u001b[0m eta \u001b[36m0:00:00\u001b[0m\n",
            "\u001b[?25hInstalling collected packages: PyMuPDFb, pymupdf\n",
            "Successfully installed PyMuPDFb-1.24.9 pymupdf-1.24.9\n"
          ]
        }
      ]
    },
    {
      "cell_type": "code",
      "source": [
        "!pip install pymupdf pytesseract pillow"
      ],
      "metadata": {
        "colab": {
          "base_uri": "https://localhost:8080/"
        },
        "id": "c3ur-H60nylX",
        "outputId": "5986a091-f8ae-420b-e423-7678d8b93fe8",
        "collapsed": true
      },
      "execution_count": 2,
      "outputs": [
        {
          "output_type": "stream",
          "name": "stdout",
          "text": [
            "Requirement already satisfied: pymupdf in /usr/local/lib/python3.10/dist-packages (1.24.9)\n",
            "Collecting pytesseract\n",
            "  Downloading pytesseract-0.3.13-py3-none-any.whl.metadata (11 kB)\n",
            "Requirement already satisfied: pillow in /usr/local/lib/python3.10/dist-packages (9.4.0)\n",
            "Requirement already satisfied: PyMuPDFb==1.24.9 in /usr/local/lib/python3.10/dist-packages (from pymupdf) (1.24.9)\n",
            "Requirement already satisfied: packaging>=21.3 in /usr/local/lib/python3.10/dist-packages (from pytesseract) (24.1)\n",
            "Downloading pytesseract-0.3.13-py3-none-any.whl (14 kB)\n",
            "Installing collected packages: pytesseract\n",
            "Successfully installed pytesseract-0.3.13\n"
          ]
        }
      ]
    },
    {
      "cell_type": "code",
      "source": [
        "# Ruta del archivo PDF que quieres analizar\n",
        "pdf_path = \"/content/sample_data/SOIL-MB-NPKPHCTH-S-DS.pdf\"\n",
        "pdf_path2=\"/content/sample_data/all-of-me.pdf\""
      ],
      "metadata": {
        "id": "VZ5cjWt3lWW4"
      },
      "execution_count": 3,
      "outputs": []
    },
    {
      "cell_type": "code",
      "source": [
        "import fitz\n",
        "import pymupdf"
      ],
      "metadata": {
        "id": "ew38lOWdbGlJ"
      },
      "execution_count": 4,
      "outputs": []
    },
    {
      "cell_type": "code",
      "source": [
        "pdf = pymupdf.open(pdf_path)  # or pymupdf.Document(filename)\n",
        "pdf2 = pymupdf.open(pdf_path2)"
      ],
      "metadata": {
        "id": "M2uliy8jbUZ8"
      },
      "execution_count": 6,
      "outputs": []
    },
    {
      "cell_type": "code",
      "source": [
        "# obtencion de metadata con pymupdf\n",
        "metadata = pdf.metadata\n",
        "metadata2 = pdf2.metadata\n",
        "print(metadata)\n",
        "print(metadata2)"
      ],
      "metadata": {
        "colab": {
          "base_uri": "https://localhost:8080/"
        },
        "id": "I3xFbPk2ck5e",
        "outputId": "a73198e1-a9f6-4ba2-9c14-780aba867b32"
      },
      "execution_count": 7,
      "outputs": [
        {
          "output_type": "stream",
          "name": "stdout",
          "text": [
            "{'format': 'PDF 1.6', 'title': 'SOIL-MB-NPKPHCTH-DS - HOJA DE DATOS - DATASHEET', 'author': 'Boris Estudiez', 'subject': 'Sensor de parámetros de suelo (temperatura, humedad y conductividad) por ModBus RTU', 'keywords': 'NPK Nitrógeno Fósforo Potasio PH Temperatura Humedad Conductividad EC ModBus RTU RS485 PLC', 'creator': 'Acrobat PDFMaker 23 for Word', 'producer': 'Adobe PDF Library 23.6.156', 'creationDate': \"D:20231228103132-03'00'\", 'modDate': \"D:20231228103155-03'00'\", 'trapped': '', 'encryption': 'Standard V4 R4 128-bit AES'}\n",
            "{'format': 'PDF 1.7', 'title': '', 'author': '', 'subject': '', 'keywords': '', 'creator': '3-Heights(TM) Image to PDF Converter 4.10.16.0 (www.pdf-tools.com)', 'producer': '3-Heights(TM) Image to PDF Converter Shell 4.10.16.0 (http://www.pdf-tools.com)', 'creationDate': \"D:20190205161958+01'00'\", 'modDate': \"D:20190205161958+01'00'\", 'trapped': '', 'encryption': None}\n"
          ]
        }
      ]
    },
    {
      "cell_type": "code",
      "source": [
        "# Obtencion de Metadata con fitz\n",
        "doc = fitz.open(pdf_path)\n",
        "doc2 = fitz.open(pdf_path2)\n",
        "meta = doc.metadata\n",
        "meta2 = doc2.metadata\n",
        "print(meta)\n",
        "print(meta2)"
      ],
      "metadata": {
        "colab": {
          "base_uri": "https://localhost:8080/"
        },
        "id": "A5F3B810e5yB",
        "outputId": "74d91bf5-a060-4ae8-b25f-1ca79449a23f"
      },
      "execution_count": 8,
      "outputs": [
        {
          "output_type": "stream",
          "name": "stdout",
          "text": [
            "{'format': 'PDF 1.6', 'title': 'SOIL-MB-NPKPHCTH-DS - HOJA DE DATOS - DATASHEET', 'author': 'Boris Estudiez', 'subject': 'Sensor de parámetros de suelo (temperatura, humedad y conductividad) por ModBus RTU', 'keywords': 'NPK Nitrógeno Fósforo Potasio PH Temperatura Humedad Conductividad EC ModBus RTU RS485 PLC', 'creator': 'Acrobat PDFMaker 23 for Word', 'producer': 'Adobe PDF Library 23.6.156', 'creationDate': \"D:20231228103132-03'00'\", 'modDate': \"D:20231228103155-03'00'\", 'trapped': '', 'encryption': 'Standard V4 R4 128-bit AES'}\n",
            "{'format': 'PDF 1.7', 'title': '', 'author': '', 'subject': '', 'keywords': '', 'creator': '3-Heights(TM) Image to PDF Converter 4.10.16.0 (www.pdf-tools.com)', 'producer': '3-Heights(TM) Image to PDF Converter Shell 4.10.16.0 (http://www.pdf-tools.com)', 'creationDate': \"D:20190205161958+01'00'\", 'modDate': \"D:20190205161958+01'00'\", 'trapped': '', 'encryption': None}\n"
          ]
        }
      ]
    },
    {
      "cell_type": "code",
      "source": [
        "# Funcion que identifica si el pdf tiene texto, imagenes o ambas\n",
        "import fitz  # PyMuPDF\n",
        "\n",
        "def analyze_pdf(pdf_path):\n",
        "    doc = fitz.open(pdf_path)\n",
        "    text_pages = 0\n",
        "    image_pages = 0\n",
        "    total_pages = doc.page_count\n",
        "\n",
        "    for page_num in range(total_pages):\n",
        "        page = doc.load_page(page_num)\n",
        "        text = page.get_text(\"text\")\n",
        "        images = page.get_images(full=True)\n",
        "\n",
        "        if text.strip():\n",
        "            text_pages += 1\n",
        "        if images:\n",
        "            image_pages += 1\n",
        "\n",
        "    doc.close()\n",
        "\n",
        "    return {\n",
        "        \"total_pages\": total_pages,\n",
        "        \"text_pages\": text_pages,\n",
        "        \"image_pages\": image_pages,\n",
        "    }\n"
      ],
      "metadata": {
        "id": "iJLq1N9Nl24a"
      },
      "execution_count": 9,
      "outputs": []
    },
    {
      "cell_type": "code",
      "source": [
        "# Análisis del PDF\n",
        "result = analyze_pdf(pdf_path)\n",
        "\n",
        "# Resultados\n",
        "print(f\"Total de páginas: {result['total_pages']}\")\n",
        "print(f\"Páginas con texto: {result['text_pages']}\")\n",
        "print(f\"Páginas con imágenes: {result['image_pages']}\")\n",
        "\n",
        "if result['text_pages'] > 0 and result['image_pages'] == 0:\n",
        "    print(\"El PDF contiene principalmente texto seleccionable.\")\n",
        "elif result['image_pages'] > 0 and result['text_pages'] == 0:\n",
        "    print(\"El PDF es principalmente un escaneo.\")\n",
        "elif result['text_pages'] > 0 and result['image_pages'] > 0:\n",
        "    print(\"El PDF contiene tanto texto seleccionable como imágenes.\")\n",
        "else:\n",
        "    print(\"No se pudo determinar el contenido del PDF.\")"
      ],
      "metadata": {
        "colab": {
          "base_uri": "https://localhost:8080/"
        },
        "id": "RDHqCvGe_acb",
        "outputId": "35ca595c-018e-4cd4-ca80-a997ebf62602"
      },
      "execution_count": 12,
      "outputs": [
        {
          "output_type": "stream",
          "name": "stdout",
          "text": [
            "Total de páginas: 40\n",
            "Páginas con texto: 40\n",
            "Páginas con imágenes: 40\n",
            "El PDF contiene tanto texto seleccionable como imágenes.\n"
          ]
        }
      ]
    },
    {
      "cell_type": "code",
      "execution_count": 10,
      "metadata": {
        "colab": {
          "base_uri": "https://localhost:8080/"
        },
        "id": "HjMveY-9bvTv",
        "outputId": "4aa3be0d-88c6-4ccf-ab60-06a856b25056"
      },
      "outputs": [
        {
          "output_type": "stream",
          "name": "stdout",
          "text": [
            "Total de páginas: 1\n",
            "Páginas con texto: 0\n",
            "Páginas con imágenes: 1\n",
            "El PDF es principalmente un escaneo.\n"
          ]
        }
      ],
      "source": [
        "# Análisis del PDF\n",
        "result = analyze_pdf(pdf_path2)\n",
        "\n",
        "# Resultados\n",
        "print(f\"Total de páginas: {result['total_pages']}\")\n",
        "print(f\"Páginas con texto: {result['text_pages']}\")\n",
        "print(f\"Páginas con imágenes: {result['image_pages']}\")\n",
        "\n",
        "if result['text_pages'] > 0 and result['image_pages'] == 0:\n",
        "    print(\"El PDF contiene principalmente texto seleccionable.\")\n",
        "elif result['image_pages'] > 0 and result['text_pages'] == 0:\n",
        "    print(\"El PDF es principalmente un escaneo.\")\n",
        "elif result['text_pages'] > 0 and result['image_pages'] > 0:\n",
        "    print(\"El PDF contiene tanto texto seleccionable como imágenes.\")\n",
        "else:\n",
        "    print(\"No se pudo determinar el contenido del PDF.\")\n"
      ]
    },
    {
      "cell_type": "code",
      "source": [
        "import pytesseract\n",
        "from PIL import Image\n",
        "import io"
      ],
      "metadata": {
        "id": "EOlIX6K6n_k8"
      },
      "execution_count": 13,
      "outputs": []
    },
    {
      "cell_type": "code",
      "source": [
        "# Instalar Tesseract\n",
        "!apt-get update\n",
        "!apt-get install -y tesseract-ocr\n",
        "\n",
        "# Verifica la instalación de Tesseract\n",
        "!tesseract --version"
      ],
      "metadata": {
        "colab": {
          "base_uri": "https://localhost:8080/"
        },
        "id": "EufgrS9Mo41J",
        "outputId": "1eb7d6a8-c3ea-43a0-b763-769b01b66ce1",
        "collapsed": true
      },
      "execution_count": 14,
      "outputs": [
        {
          "output_type": "stream",
          "name": "stdout",
          "text": [
            "Get:1 https://cloud.r-project.org/bin/linux/ubuntu jammy-cran40/ InRelease [3,626 B]\n",
            "Hit:2 https://developer.download.nvidia.com/compute/cuda/repos/ubuntu2204/x86_64  InRelease\n",
            "Hit:3 http://archive.ubuntu.com/ubuntu jammy InRelease\n",
            "Get:4 http://archive.ubuntu.com/ubuntu jammy-updates InRelease [128 kB]\n",
            "Get:5 http://security.ubuntu.com/ubuntu jammy-security InRelease [129 kB]\n",
            "Ign:6 https://r2u.stat.illinois.edu/ubuntu jammy InRelease\n",
            "Get:7 https://r2u.stat.illinois.edu/ubuntu jammy Release [5,713 B]\n",
            "Hit:8 http://archive.ubuntu.com/ubuntu jammy-backports InRelease\n",
            "Get:9 https://r2u.stat.illinois.edu/ubuntu jammy Release.gpg [793 B]\n",
            "Get:10 http://archive.ubuntu.com/ubuntu jammy-updates/main amd64 Packages [2,498 kB]\n",
            "Hit:11 https://ppa.launchpadcontent.net/deadsnakes/ppa/ubuntu jammy InRelease\n",
            "Hit:12 https://ppa.launchpadcontent.net/graphics-drivers/ppa/ubuntu jammy InRelease\n",
            "Hit:13 https://ppa.launchpadcontent.net/ubuntugis/ppa/ubuntu jammy InRelease\n",
            "Get:14 https://r2u.stat.illinois.edu/ubuntu jammy/main all Packages [8,256 kB]\n",
            "Get:15 https://r2u.stat.illinois.edu/ubuntu jammy/main amd64 Packages [2,562 kB]\n",
            "Fetched 13.6 MB in 2s (6,102 kB/s)\n",
            "Reading package lists... Done\n",
            "W: Skipping acquire of configured file 'main/source/Sources' as repository 'https://r2u.stat.illinois.edu/ubuntu jammy InRelease' does not seem to provide it (sources.list entry misspelt?)\n",
            "Reading package lists... Done\n",
            "Building dependency tree... Done\n",
            "Reading state information... Done\n",
            "The following additional packages will be installed:\n",
            "  tesseract-ocr-eng tesseract-ocr-osd\n",
            "The following NEW packages will be installed:\n",
            "  tesseract-ocr tesseract-ocr-eng tesseract-ocr-osd\n",
            "0 upgraded, 3 newly installed, 0 to remove and 52 not upgraded.\n",
            "Need to get 4,816 kB of archives.\n",
            "After this operation, 15.6 MB of additional disk space will be used.\n",
            "Get:1 http://archive.ubuntu.com/ubuntu jammy/universe amd64 tesseract-ocr-eng all 1:4.00~git30-7274cfa-1.1 [1,591 kB]\n",
            "Get:2 http://archive.ubuntu.com/ubuntu jammy/universe amd64 tesseract-ocr-osd all 1:4.00~git30-7274cfa-1.1 [2,990 kB]\n",
            "Get:3 http://archive.ubuntu.com/ubuntu jammy/universe amd64 tesseract-ocr amd64 4.1.1-2.1build1 [236 kB]\n",
            "Fetched 4,816 kB in 0s (14.7 MB/s)\n",
            "Selecting previously unselected package tesseract-ocr-eng.\n",
            "(Reading database ... 123595 files and directories currently installed.)\n",
            "Preparing to unpack .../tesseract-ocr-eng_1%3a4.00~git30-7274cfa-1.1_all.deb ...\n",
            "Unpacking tesseract-ocr-eng (1:4.00~git30-7274cfa-1.1) ...\n",
            "Selecting previously unselected package tesseract-ocr-osd.\n",
            "Preparing to unpack .../tesseract-ocr-osd_1%3a4.00~git30-7274cfa-1.1_all.deb ...\n",
            "Unpacking tesseract-ocr-osd (1:4.00~git30-7274cfa-1.1) ...\n",
            "Selecting previously unselected package tesseract-ocr.\n",
            "Preparing to unpack .../tesseract-ocr_4.1.1-2.1build1_amd64.deb ...\n",
            "Unpacking tesseract-ocr (4.1.1-2.1build1) ...\n",
            "Setting up tesseract-ocr-eng (1:4.00~git30-7274cfa-1.1) ...\n",
            "Setting up tesseract-ocr-osd (1:4.00~git30-7274cfa-1.1) ...\n",
            "Setting up tesseract-ocr (4.1.1-2.1build1) ...\n",
            "Processing triggers for man-db (2.10.2-1) ...\n",
            "tesseract 4.1.1\n",
            " leptonica-1.82.0\n",
            "  libgif 5.1.9 : libjpeg 8d (libjpeg-turbo 2.1.1) : libpng 1.6.37 : libtiff 4.3.0 : zlib 1.2.11 : libwebp 1.2.2 : libopenjp2 2.4.0\n",
            " Found AVX2\n",
            " Found AVX\n",
            " Found FMA\n",
            " Found SSE\n",
            " Found libarchive 3.6.0 zlib/1.2.11 liblzma/5.2.5 bz2lib/1.0.8 liblz4/1.9.3 libzstd/1.4.8\n"
          ]
        }
      ]
    },
    {
      "cell_type": "markdown",
      "source": [
        "El siguiente codigo no permite extraer la informacion de una imagen, imagino que un VLM puede hacer esto de manera mas eficiente"
      ],
      "metadata": {
        "id": "Dy1LyFY1_nHA"
      }
    },
    {
      "cell_type": "code",
      "source": [
        "def extract_images_and_ocr(pdf_path):\n",
        "    doc = fitz.open(pdf_path)\n",
        "    ocr_text = \"\"\n",
        "\n",
        "    for page_num in range(doc.page_count):\n",
        "        page = doc.load_page(page_num)\n",
        "        images = page.get_images(full=True)\n",
        "\n",
        "        for img_index, img in enumerate(images):\n",
        "            xref = img[0]\n",
        "            base_image = doc.extract_image(xref)\n",
        "            image_bytes = base_image[\"image\"]\n",
        "            image_ext = base_image[\"ext\"]\n",
        "            image = Image.open(io.BytesIO(image_bytes))\n",
        "\n",
        "            # Aplicar OCR a la imagen\n",
        "            text = pytesseract.image_to_string(image)\n",
        "            ocr_text += f\"\\n\\n--- Página {page_num + 1}, Imagen {img_index + 1} ---\\n{text}\"\n",
        "\n",
        "    doc.close()\n",
        "\n",
        "    return ocr_text\n",
        "\n",
        "# Extraer imágenes y aplicar OCR\n",
        "ocr_result = extract_images_and_ocr(pdf_path2)\n",
        "\n",
        "# Resultados del OCR\n",
        "print(ocr_result)"
      ],
      "metadata": {
        "colab": {
          "base_uri": "https://localhost:8080/"
        },
        "id": "En_agw-Fn7IK",
        "outputId": "23f78b67-8e27-47b7-8b25-92609f543d33"
      },
      "execution_count": 15,
      "outputs": [
        {
          "output_type": "stream",
          "name": "stdout",
          "text": [
            "\n",
            "\n",
            "--- Página 1, Imagen 1 ---\n",
            " \n",
            "\n",
            " \n",
            "\n",
            " \n",
            "\n",
            " \n",
            "\n",
            " \n",
            "\n",
            " \n",
            "\n",
            " \n",
            "\n",
            " \n",
            "\n",
            " \n",
            "\n",
            " \n",
            "\n",
            " \n",
            "\n",
            " \n",
            "\n",
            " \n",
            "\n",
            " \n",
            "\n",
            " \n",
            "\n",
            " \n",
            "\n",
            " \n",
            "\n",
            " \n",
            "\n",
            " \n",
            "\n",
            " \n",
            "\n",
            " \n",
            "\n",
            " \n",
            "\f\n"
          ]
        }
      ]
    }
  ]
}